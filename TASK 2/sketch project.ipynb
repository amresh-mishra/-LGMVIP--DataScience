{
 "cells": [
  {
   "cell_type": "code",
   "execution_count": 8,
   "id": "1dcb0d20",
   "metadata": {},
   "outputs": [],
   "source": [
    "#pip install opencv-python\n",
    "import cv2"
   ]
  },
  {
   "cell_type": "code",
   "execution_count": 2,
   "id": "024384f8",
   "metadata": {},
   "outputs": [],
   "source": [
    "#import image in image valriable \n",
    "#which only read the provided image"
   ]
  },
  {
   "cell_type": "code",
   "execution_count": 9,
   "id": "1d42cc3c",
   "metadata": {},
   "outputs": [],
   "source": [
    "pic= cv2.imread(\"apple.jpg\") "
   ]
  },
  {
   "cell_type": "code",
   "execution_count": 4,
   "id": "119f5037",
   "metadata": {},
   "outputs": [],
   "source": [
    "# convert it to a grayscale image This will turn an image into a classic black and white photo"
   ]
  },
  {
   "cell_type": "code",
   "execution_count": 10,
   "id": "192195fa",
   "metadata": {},
   "outputs": [],
   "source": [
    "greyscale= cv2.cvtColor(pic, cv2.COLOR_BGR2GRAY )"
   ]
  },
  {
   "cell_type": "code",
   "execution_count": 6,
   "id": "d9f1546e",
   "metadata": {},
   "outputs": [],
   "source": [
    "#invert the grayscale image also called negative image, this will be our inverted grayscale image.\n",
    "#Inversion can be used to enhance details"
   ]
  },
  {
   "cell_type": "code",
   "execution_count": 17,
   "id": "57fe12a3",
   "metadata": {},
   "outputs": [],
   "source": [
    "invert=cv2.bitwise_not(greyscale)"
   ]
  },
  {
   "cell_type": "code",
   "execution_count": 8,
   "id": "2717fc57",
   "metadata": {},
   "outputs": [],
   "source": [
    "#blur the image"
   ]
  },
  {
   "cell_type": "code",
   "execution_count": 18,
   "id": "36986ceb",
   "metadata": {},
   "outputs": [],
   "source": [
    "blur_image=cv2.GaussianBlur(invert, (21,21),0)"
   ]
  },
  {
   "cell_type": "code",
   "execution_count": 10,
   "id": "84795edb",
   "metadata": {},
   "outputs": [],
   "source": [
    "#inverted blur"
   ]
  },
  {
   "cell_type": "code",
   "execution_count": 20,
   "id": "459c67eb",
   "metadata": {},
   "outputs": [],
   "source": [
    "inverted_blur=cv2.bitwise_not(blur_image)"
   ]
  },
  {
   "cell_type": "code",
   "execution_count": null,
   "id": "c482b9f1",
   "metadata": {},
   "outputs": [],
   "source": [
    "#we can finally create the pencil sketch by mixing the grayscale image with the inverted blurry image. \n",
    "#This can be done by dividing the grayscale image by the inverted blurry image."
   ]
  },
  {
   "cell_type": "code",
   "execution_count": 22,
   "id": "57e594ac",
   "metadata": {},
   "outputs": [],
   "source": [
    "new_pic=cv2.divide(greyscale, inverted_blur, scale=256.0 )"
   ]
  },
  {
   "cell_type": "code",
   "execution_count": null,
   "id": "3712bdd2",
   "metadata": {},
   "outputs": [],
   "source": [
    "#write the image as new name "
   ]
  },
  {
   "cell_type": "code",
   "execution_count": 23,
   "id": "ec2fea8f",
   "metadata": {},
   "outputs": [
    {
     "data": {
      "text/plain": [
       "True"
      ]
     },
     "execution_count": 23,
     "metadata": {},
     "output_type": "execute_result"
    }
   ],
   "source": [
    "cv2.imwrite(\"new_apple.png\",new_pic)"
   ]
  },
  {
   "cell_type": "code",
   "execution_count": null,
   "id": "7067fce0",
   "metadata": {},
   "outputs": [],
   "source": []
  },
  {
   "cell_type": "code",
   "execution_count": null,
   "id": "479615c9",
   "metadata": {},
   "outputs": [],
   "source": []
  }
 ],
 "metadata": {
  "kernelspec": {
   "display_name": "Python 3 (ipykernel)",
   "language": "python",
   "name": "python3"
  },
  "language_info": {
   "codemirror_mode": {
    "name": "ipython",
    "version": 3
   },
   "file_extension": ".py",
   "mimetype": "text/x-python",
   "name": "python",
   "nbconvert_exporter": "python",
   "pygments_lexer": "ipython3",
   "version": "3.9.12"
  }
 },
 "nbformat": 4,
 "nbformat_minor": 5
}
